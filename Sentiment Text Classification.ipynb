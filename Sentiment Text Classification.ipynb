{
 "cells": [
  {
   "cell_type": "code",
   "execution_count": 1,
   "metadata": {},
   "outputs": [],
   "source": [
    "import numpy as np\n",
    "import matplotlib.pyplot as plt\n",
    "import pandas as pd\n",
    "import spacy\n",
    "import torch\n",
    "import torch.nn.functional as F\n",
    "import torchtext as tt\n",
    "\n",
    "from livelossplot import PlotLosses\n",
    "from nltk.stem.porter import PorterStemmer\n",
    "from sklearn.metrics import roc_curve, auc\n",
    "from sklearn.model_selection import train_test_split\n",
    "from torch import nn\n",
    "from torch import optim\n",
    "from tqdm import tqdm_notebook as tqdm\n",
    "\n",
    "%matplotlib inline"
   ]
  },
  {
   "cell_type": "markdown",
   "metadata": {},
   "source": [
    "Code based on:\n",
    "1. https://www.analyticsvidhya.com/blog/2019/01/guide-pytorch-neural-networks-case-studies/#\n",
    "2. http://mlexplained.com/2018/02/08/a-comprehensive-tutorial-to-torchtext/\n",
    "\n",
    "with some small improvements."
   ]
  },
  {
   "cell_type": "markdown",
   "metadata": {},
   "source": [
    "# SpaCy"
   ]
  },
  {
   "cell_type": "markdown",
   "metadata": {},
   "source": [
    "To tokenize sentences we will use SpaCy."
   ]
  },
  {
   "cell_type": "code",
   "execution_count": 2,
   "metadata": {},
   "outputs": [],
   "source": [
    "nlp = spacy.load('en')"
   ]
  },
  {
   "cell_type": "code",
   "execution_count": 3,
   "metadata": {},
   "outputs": [],
   "source": [
    "def tokenize(sentence, nlp):\n",
    "    return [token.text for token in nlp.tokenizer(sentence)]\n",
    "\n",
    "\n",
    "tokenize_en = lambda sentence: tokenize(sentence, nlp=nlp)"
   ]
  },
  {
   "cell_type": "markdown",
   "metadata": {},
   "source": [
    "An example how it works in practice"
   ]
  },
  {
   "cell_type": "code",
   "execution_count": 4,
   "metadata": {},
   "outputs": [
    {
     "data": {
      "text/plain": [
       "['A', 'simple', 'test', 'of', 'a', 'tokenizer', '.']"
      ]
     },
     "execution_count": 4,
     "metadata": {},
     "output_type": "execute_result"
    }
   ],
   "source": [
    "tokenize_en('A simple test of a tokenizer.')"
   ]
  },
  {
   "cell_type": "markdown",
   "metadata": {},
   "source": [
    "# Data preparation"
   ]
  },
  {
   "cell_type": "markdown",
   "metadata": {},
   "source": [
    "## Getting data"
   ]
  },
  {
   "cell_type": "markdown",
   "metadata": {},
   "source": [
    "Sentiment data taken from [here](https://s3-ap-south-1.amazonaws.com/av-blog-media/wp-content/uploads/2019/01/train.csv)."
   ]
  },
  {
   "cell_type": "code",
   "execution_count": 5,
   "metadata": {},
   "outputs": [],
   "source": [
    "# !wget https://s3-ap-south-1.amazonaws.com/av-blog-media/wp-content/uploads/2019/01/train.csv -O data/sentiment.csv"
   ]
  },
  {
   "cell_type": "markdown",
   "metadata": {},
   "source": [
    "Let's load it and see how it looks like."
   ]
  },
  {
   "cell_type": "code",
   "execution_count": 6,
   "metadata": {},
   "outputs": [
    {
     "data": {
      "text/html": [
       "<div>\n",
       "<style scoped>\n",
       "    .dataframe tbody tr th:only-of-type {\n",
       "        vertical-align: middle;\n",
       "    }\n",
       "\n",
       "    .dataframe tbody tr th {\n",
       "        vertical-align: top;\n",
       "    }\n",
       "\n",
       "    .dataframe thead th {\n",
       "        text-align: right;\n",
       "    }\n",
       "</style>\n",
       "<table border=\"1\" class=\"dataframe\">\n",
       "  <thead>\n",
       "    <tr style=\"text-align: right;\">\n",
       "      <th></th>\n",
       "      <th>text</th>\n",
       "      <th>label</th>\n",
       "    </tr>\n",
       "  </thead>\n",
       "  <tbody>\n",
       "    <tr>\n",
       "      <th>0</th>\n",
       "      <td>A very  very  very slow-moving  aimless movie ...</td>\n",
       "      <td>0</td>\n",
       "    </tr>\n",
       "    <tr>\n",
       "      <th>1</th>\n",
       "      <td>Not sure who was more lost - the flat characte...</td>\n",
       "      <td>0</td>\n",
       "    </tr>\n",
       "    <tr>\n",
       "      <th>2</th>\n",
       "      <td>Attempting artiness with black &amp; white and cle...</td>\n",
       "      <td>0</td>\n",
       "    </tr>\n",
       "    <tr>\n",
       "      <th>3</th>\n",
       "      <td>Very little music or anything to speak of.</td>\n",
       "      <td>0</td>\n",
       "    </tr>\n",
       "    <tr>\n",
       "      <th>4</th>\n",
       "      <td>The best scene in the movie was when Gerardo i...</td>\n",
       "      <td>1</td>\n",
       "    </tr>\n",
       "  </tbody>\n",
       "</table>\n",
       "</div>"
      ],
      "text/plain": [
       "                                                text  label\n",
       "0  A very  very  very slow-moving  aimless movie ...      0\n",
       "1  Not sure who was more lost - the flat characte...      0\n",
       "2  Attempting artiness with black & white and cle...      0\n",
       "3         Very little music or anything to speak of.      0\n",
       "4  The best scene in the movie was when Gerardo i...      1"
      ]
     },
     "execution_count": 6,
     "metadata": {},
     "output_type": "execute_result"
    }
   ],
   "source": [
    "sentiment = pd.read_csv('data/sentiment.csv')\n",
    "sentiment.columns = [c.strip() for c in sentiment.columns]\n",
    "sentiment.head()"
   ]
  },
  {
   "cell_type": "code",
   "execution_count": 7,
   "metadata": {},
   "outputs": [
    {
     "name": "stdout",
     "output_type": "stream",
     "text": [
      "There are 748 labelled sentences\n"
     ]
    }
   ],
   "source": [
    "print('There are {} labelled sentences'.format(len(sentiment)))"
   ]
  },
  {
   "cell_type": "markdown",
   "metadata": {},
   "source": [
    "## Preparing data"
   ]
  },
  {
   "cell_type": "markdown",
   "metadata": {},
   "source": [
    "Loaded data is now split into train, test, val sets, which are then saved to separate files."
   ]
  },
  {
   "cell_type": "code",
   "execution_count": 8,
   "metadata": {},
   "outputs": [],
   "source": [
    "train, test = train_test_split(sentiment, test_size=0.1, random_state=3445)"
   ]
  },
  {
   "cell_type": "code",
   "execution_count": 9,
   "metadata": {},
   "outputs": [],
   "source": [
    "train, val = train_test_split(train, test_size=0.1, random_state=2434)"
   ]
  },
  {
   "cell_type": "code",
   "execution_count": 10,
   "metadata": {},
   "outputs": [
    {
     "data": {
      "text/plain": [
       "[605, 68, 75]"
      ]
     },
     "execution_count": 10,
     "metadata": {},
     "output_type": "execute_result"
    }
   ],
   "source": [
    "list(map(len, (train, val, test)))"
   ]
  },
  {
   "cell_type": "markdown",
   "metadata": {},
   "source": [
    "Saving each dataset to a separate file, to facilitate `TabularDataset` functionality."
   ]
  },
  {
   "cell_type": "code",
   "execution_count": 11,
   "metadata": {},
   "outputs": [],
   "source": [
    "train.to_csv('data/train.csv', index=False)\n",
    "val.to_csv('data/val.csv', index=False)\n",
    "test.to_csv('data/test.csv', index=False)"
   ]
  },
  {
   "cell_type": "code",
   "execution_count": 12,
   "metadata": {},
   "outputs": [],
   "source": [
    "TEXT = tt.data.Field(sequential=True, tokenize=tokenize_en, lower=True)\n",
    "LABEL = tt.data.Field(sequential=False, use_vocab=False)"
   ]
  },
  {
   "cell_type": "code",
   "execution_count": 13,
   "metadata": {},
   "outputs": [],
   "source": [
    "data_fields = [('text', TEXT), ('label', LABEL)]\n",
    "train, val, test = tt.data.TabularDataset.splits(\n",
    "    path='data/',\n",
    "    train='train.csv',\n",
    "    validation='val.csv',\n",
    "    test='test.csv',\n",
    "    format='csv',\n",
    "    fields=data_fields,\n",
    "    skip_header=True)"
   ]
  },
  {
   "cell_type": "markdown",
   "metadata": {},
   "source": [
    "File with GloVe vectors. I used the small one, `glove.6B.50d.tx`."
   ]
  },
  {
   "cell_type": "code",
   "execution_count": 14,
   "metadata": {},
   "outputs": [],
   "source": [
    "EMBEDDING_FILE = '/Users/qoqosz/Downloads/glove.6B/glove.6B.50d.txt'"
   ]
  },
  {
   "cell_type": "code",
   "execution_count": 15,
   "metadata": {},
   "outputs": [],
   "source": [
    "vec = tt.vocab.Vectors(EMBEDDING_FILE)"
   ]
  },
  {
   "cell_type": "markdown",
   "metadata": {},
   "source": [
    "Building vocabulary without test dataset."
   ]
  },
  {
   "cell_type": "code",
   "execution_count": 16,
   "metadata": {},
   "outputs": [],
   "source": [
    "TEXT.build_vocab(train, val, max_size=1000, vectors=vec, min_freq=3)"
   ]
  },
  {
   "cell_type": "code",
   "execution_count": 17,
   "metadata": {},
   "outputs": [
    {
     "data": {
      "text/plain": [
       "54"
      ]
     },
     "execution_count": 17,
     "metadata": {},
     "output_type": "execute_result"
    }
   ],
   "source": [
    "TEXT.vocab.stoi['great']"
   ]
  },
  {
   "cell_type": "markdown",
   "metadata": {},
   "source": [
    "TorchText iterators over the dataset."
   ]
  },
  {
   "cell_type": "code",
   "execution_count": 18,
   "metadata": {},
   "outputs": [],
   "source": [
    "train_iter, val_iter, test_iter = tt.data.BucketIterator.splits(\n",
    "    (train, val, test),\n",
    "    batch_sizes=(32, 32, 32),\n",
    "    shuffle=False,\n",
    "    sort_key=lambda x: len(x.text),\n",
    "    sort_within_batch=False,\n",
    "    repeat=False)"
   ]
  },
  {
   "cell_type": "markdown",
   "metadata": {},
   "source": [
    "BatchWrapper - Data Loader"
   ]
  },
  {
   "cell_type": "code",
   "execution_count": 19,
   "metadata": {},
   "outputs": [],
   "source": [
    "class BatchWrapper(object):\n",
    "    def __init__(self, dl, x_var, y_vars):\n",
    "        self.dl, self.x_var, self.y_vars = dl, x_var, y_vars\n",
    "\n",
    "    def __iter__(self):\n",
    "        for batch in self.dl:\n",
    "            x = getattr(batch, self.x_var)\n",
    "\n",
    "            if self.y_vars is not None:\n",
    "                y = torch.cat([getattr(batch, feat) \n",
    "                               for feat in self.y_vars]).float()\n",
    "            else:\n",
    "                y = torch.zeros((1))\n",
    "\n",
    "            yield (x, y)\n",
    "\n",
    "    def __len__(self):\n",
    "        return len(self.dl)"
   ]
  },
  {
   "cell_type": "markdown",
   "metadata": {},
   "source": [
    "Model parameters"
   ]
  },
  {
   "cell_type": "code",
   "execution_count": 20,
   "metadata": {},
   "outputs": [
    {
     "data": {
      "text/plain": [
       "680"
      ]
     },
     "execution_count": 20,
     "metadata": {},
     "output_type": "execute_result"
    }
   ],
   "source": [
    "vocab_size = len(TEXT.vocab)\n",
    "embedding_dim = 50\n",
    "n_hidden = 32\n",
    "len(TEXT.vocab)"
   ]
  },
  {
   "cell_type": "markdown",
   "metadata": {},
   "source": [
    "Define DataLoaders"
   ]
  },
  {
   "cell_type": "code",
   "execution_count": 21,
   "metadata": {},
   "outputs": [],
   "source": [
    "train_dl = BatchWrapper(train_iter, 'text', ['label'])\n",
    "val_dl = BatchWrapper(val_iter, 'text', ['label'])\n",
    "test_dl = BatchWrapper(test_iter, 'text', ['label'])"
   ]
  },
  {
   "cell_type": "markdown",
   "metadata": {},
   "source": [
    "The model"
   ]
  },
  {
   "cell_type": "code",
   "execution_count": 22,
   "metadata": {},
   "outputs": [],
   "source": [
    "class Model(nn.Module):\n",
    "    def __init__(self, vocab_size, embedding_dim, n_hidden, pretrained_vec):\n",
    "        super().__init__()\n",
    "\n",
    "        self.vocab_size = vocab_size\n",
    "        self.embedding_dim = embedding_dim\n",
    "        self.n_hidden = n_hidden\n",
    "\n",
    "        self.embedding = nn.Embedding(num_embeddings=self.vocab_size, \n",
    "                                      embedding_dim=self.embedding_dim)\n",
    "        # load pretrained vectors\n",
    "        self.embedding.weight.data.copy_(pretrained_vec)\n",
    "        # don't update loaded vectors\n",
    "        self.embedding.weight.requires_grad = False\n",
    "\n",
    "        self.lstm = nn.LSTM(input_size=embedding_dim, hidden_size=n_hidden)\n",
    "        self.linear = nn.Linear(n_hidden, n_hidden)\n",
    "        self.out = nn.Linear(n_hidden, 1)\n",
    "\n",
    "    def forward(self, x):\n",
    "        h_embedding = self.embedding(x)\n",
    "        h_lstm, _ = self.lstm(h_embedding)\n",
    "        max_pool, _ = torch.max(h_lstm, 0)\n",
    "        linear = self.linear(max_pool)\n",
    "        output = torch.sigmoid(self.out(linear))\n",
    "\n",
    "        return output"
   ]
  },
  {
   "cell_type": "code",
   "execution_count": 23,
   "metadata": {},
   "outputs": [],
   "source": [
    "model = Model(vocab_size, embedding_dim, n_hidden, TEXT.vocab.vectors)"
   ]
  },
  {
   "cell_type": "markdown",
   "metadata": {},
   "source": [
    "## Train"
   ]
  },
  {
   "cell_type": "code",
   "execution_count": 24,
   "metadata": {},
   "outputs": [],
   "source": [
    "loss_function = nn.BCELoss(reduction='mean')\n",
    "optimizer = optim.Adam(model.parameters())"
   ]
  },
  {
   "cell_type": "code",
   "execution_count": 25,
   "metadata": {},
   "outputs": [
    {
     "data": {
      "image/png": "[encoded data removed]",
      "text/plain": [
       "<Figure size 864x576 with 1 Axes>"
      ]
     },
     "metadata": {
      "needs_background": "light"
     },
     "output_type": "display_data"
    },
    {
     "name": "stdout",
     "output_type": "stream",
     "text": [
      "loss:\n",
      "training   (min:    0.400, max:    0.692, cur:    0.400)\n",
      "validation (min:    0.458, max:    0.680, cur:    0.467)\n"
     ]
    }
   ],
   "source": [
    "n_epoch = 10\n",
    "dl = {'train': train_dl, 'validation': val_dl}\n",
    "liveloss = PlotLosses()\n",
    "\n",
    "for epoch in range(1, n_epoch + 1):\n",
    "    logs = {}\n",
    "    \n",
    "    for phase in ['train', 'validation']:\n",
    "        if phase == 'train':\n",
    "            model.train()\n",
    "        else:\n",
    "            model.eval()\n",
    "            \n",
    "        phase_loss = []\n",
    "            \n",
    "        for x, y in dl[phase]:\n",
    "            output = model(x)\n",
    "            loss = loss_function(output, y.view(-1, 1))\n",
    "            \n",
    "            if phase == 'train':\n",
    "                optimizer.zero_grad()\n",
    "                loss.backward()\n",
    "                optimizer.step()\n",
    "              \n",
    "            phase_loss.append(loss.item())\n",
    "            \n",
    "        prefix = 'val_' if phase == 'validation' else ''\n",
    "        logs[prefix + 'loss'] = np.mean(phase_loss)\n",
    "\n",
    "    liveloss.update(logs)\n",
    "    liveloss.draw()"
   ]
  },
  {
   "cell_type": "markdown",
   "metadata": {},
   "source": [
    "Depending on the data, model tends to overfit quite quickly. Definitely it's not a reliable architecture."
   ]
  },
  {
   "cell_type": "markdown",
   "metadata": {},
   "source": [
    "# Evaluation"
   ]
  },
  {
   "cell_type": "code",
   "execution_count": 34,
   "metadata": {},
   "outputs": [],
   "source": [
    "pred, y_true = [], []\n",
    "\n",
    "for x, y in test_dl:\n",
    "    output = model(x)\n",
    "    pred.extend(output.view(-1).tolist())\n",
    "    y_true.extend(y.tolist())"
   ]
  },
  {
   "cell_type": "markdown",
   "metadata": {},
   "source": [
    "## ROC"
   ]
  },
  {
   "cell_type": "code",
   "execution_count": 27,
   "metadata": {},
   "outputs": [],
   "source": [
    "fpr, tpr, _ = roc_curve(y_true, pred)\n",
    "roc_auc = auc(fpr, tpr)"
   ]
  },
  {
   "cell_type": "code",
   "execution_count": 28,
   "metadata": {},
   "outputs": [
    {
     "data": {
      "image/png": "[encoded data removed]",
      "text/plain": [
       "<Figure size 432x288 with 1 Axes>"
      ]
     },
     "metadata": {
      "needs_background": "light"
     },
     "output_type": "display_data"
    }
   ],
   "source": [
    "plt.figure()\n",
    "lw = 2\n",
    "plt.plot(fpr, tpr, color='darkorange',\n",
    "         lw=lw, label='ROC curve (area = %0.2f)' % roc_auc)\n",
    "plt.plot([0, 1], [0, 1], color='navy', lw=lw, linestyle='--')\n",
    "plt.xlim([0.0, 1.0])\n",
    "plt.ylim([0.0, 1.05])\n",
    "plt.xlabel('False Positive Rate')\n",
    "plt.ylabel('True Positive Rate')\n",
    "plt.title('Receiver operating characteristic example')\n",
    "plt.legend(loc=\"lower right\")\n",
    "plt.show()"
   ]
  },
  {
   "cell_type": "code",
   "execution_count": 29,
   "metadata": {},
   "outputs": [
    {
     "name": "stdout",
     "output_type": "stream",
     "text": [
      "Label 0.0 count: 34\n",
      "Label 1.0 count: 41\n"
     ]
    }
   ],
   "source": [
    "for i in [0.0, 1.0]:\n",
    "    print('Label', i, 'count:', (np.array(y_true) == i).sum())"
   ]
  },
  {
   "cell_type": "code",
   "execution_count": 30,
   "metadata": {},
   "outputs": [
    {
     "data": {
      "text/html": [
       "<style  type=\"text/css\" >\n",
       "</style><table id=\"T_5c8a12d6_5329_11e9_a185_685b35a75b97\" ><thead>    <tr>        <th class=\"blank level0\" ></th>        <th class=\"col_heading level0 col0\" >0</th>        <th class=\"col_heading level0 col1\" >1</th>        <th class=\"col_heading level0 col2\" >2</th>        <th class=\"col_heading level0 col3\" >3</th>        <th class=\"col_heading level0 col4\" >4</th>        <th class=\"col_heading level0 col5\" >5</th>        <th class=\"col_heading level0 col6\" >6</th>        <th class=\"col_heading level0 col7\" >7</th>        <th class=\"col_heading level0 col8\" >8</th>        <th class=\"col_heading level0 col9\" >9</th>        <th class=\"col_heading level0 col10\" >10</th>        <th class=\"col_heading level0 col11\" >11</th>        <th class=\"col_heading level0 col12\" >12</th>        <th class=\"col_heading level0 col13\" >13</th>        <th class=\"col_heading level0 col14\" >14</th>        <th class=\"col_heading level0 col15\" >15</th>        <th class=\"col_heading level0 col16\" >16</th>        <th class=\"col_heading level0 col17\" >17</th>        <th class=\"col_heading level0 col18\" >18</th>        <th class=\"col_heading level0 col19\" >19</th>        <th class=\"col_heading level0 col20\" >20</th>        <th class=\"col_heading level0 col21\" >21</th>        <th class=\"col_heading level0 col22\" >22</th>        <th class=\"col_heading level0 col23\" >23</th>        <th class=\"col_heading level0 col24\" >24</th>        <th class=\"col_heading level0 col25\" >25</th>        <th class=\"col_heading level0 col26\" >26</th>        <th class=\"col_heading level0 col27\" >27</th>        <th class=\"col_heading level0 col28\" >28</th>        <th class=\"col_heading level0 col29\" >29</th>        <th class=\"col_heading level0 col30\" >30</th>        <th class=\"col_heading level0 col31\" >31</th>        <th class=\"col_heading level0 col32\" >32</th>        <th class=\"col_heading level0 col33\" >33</th>        <th class=\"col_heading level0 col34\" >34</th>        <th class=\"col_heading level0 col35\" >35</th>        <th class=\"col_heading level0 col36\" >36</th>        <th class=\"col_heading level0 col37\" >37</th>        <th class=\"col_heading level0 col38\" >38</th>        <th class=\"col_heading level0 col39\" >39</th>        <th class=\"col_heading level0 col40\" >40</th>        <th class=\"col_heading level0 col41\" >41</th>        <th class=\"col_heading level0 col42\" >42</th>        <th class=\"col_heading level0 col43\" >43</th>        <th class=\"col_heading level0 col44\" >44</th>        <th class=\"col_heading level0 col45\" >45</th>        <th class=\"col_heading level0 col46\" >46</th>        <th class=\"col_heading level0 col47\" >47</th>        <th class=\"col_heading level0 col48\" >48</th>        <th class=\"col_heading level0 col49\" >49</th>        <th class=\"col_heading level0 col50\" >50</th>        <th class=\"col_heading level0 col51\" >51</th>        <th class=\"col_heading level0 col52\" >52</th>        <th class=\"col_heading level0 col53\" >53</th>        <th class=\"col_heading level0 col54\" >54</th>        <th class=\"col_heading level0 col55\" >55</th>        <th class=\"col_heading level0 col56\" >56</th>        <th class=\"col_heading level0 col57\" >57</th>        <th class=\"col_heading level0 col58\" >58</th>        <th class=\"col_heading level0 col59\" >59</th>        <th class=\"col_heading level0 col60\" >60</th>        <th class=\"col_heading level0 col61\" >61</th>        <th class=\"col_heading level0 col62\" >62</th>        <th class=\"col_heading level0 col63\" >63</th>        <th class=\"col_heading level0 col64\" >64</th>        <th class=\"col_heading level0 col65\" >65</th>        <th class=\"col_heading level0 col66\" >66</th>        <th class=\"col_heading level0 col67\" >67</th>        <th class=\"col_heading level0 col68\" >68</th>        <th class=\"col_heading level0 col69\" >69</th>        <th class=\"col_heading level0 col70\" >70</th>        <th class=\"col_heading level0 col71\" >71</th>        <th class=\"col_heading level0 col72\" >72</th>        <th class=\"col_heading level0 col73\" >73</th>        <th class=\"col_heading level0 col74\" >74</th>    </tr></thead><tbody>\n",
       "                <tr>\n",
       "                        <th id=\"T_5c8a12d6_5329_11e9_a185_685b35a75b97level0_row0\" class=\"row_heading level0 row0\" >y_true</th>\n",
       "                        <td id=\"T_5c8a12d6_5329_11e9_a185_685b35a75b97row0_col0\" class=\"data row0 col0\" >0.00</td>\n",
       "                        <td id=\"T_5c8a12d6_5329_11e9_a185_685b35a75b97row0_col1\" class=\"data row0 col1\" >1.00</td>\n",
       "                        <td id=\"T_5c8a12d6_5329_11e9_a185_685b35a75b97row0_col2\" class=\"data row0 col2\" >0.00</td>\n",
       "                        <td id=\"T_5c8a12d6_5329_11e9_a185_685b35a75b97row0_col3\" class=\"data row0 col3\" >0.00</td>\n",
       "                        <td id=\"T_5c8a12d6_5329_11e9_a185_685b35a75b97row0_col4\" class=\"data row0 col4\" >1.00</td>\n",
       "                        <td id=\"T_5c8a12d6_5329_11e9_a185_685b35a75b97row0_col5\" class=\"data row0 col5\" >0.00</td>\n",
       "                        <td id=\"T_5c8a12d6_5329_11e9_a185_685b35a75b97row0_col6\" class=\"data row0 col6\" >1.00</td>\n",
       "                        <td id=\"T_5c8a12d6_5329_11e9_a185_685b35a75b97row0_col7\" class=\"data row0 col7\" >1.00</td>\n",
       "                        <td id=\"T_5c8a12d6_5329_11e9_a185_685b35a75b97row0_col8\" class=\"data row0 col8\" >1.00</td>\n",
       "                        <td id=\"T_5c8a12d6_5329_11e9_a185_685b35a75b97row0_col9\" class=\"data row0 col9\" >0.00</td>\n",
       "                        <td id=\"T_5c8a12d6_5329_11e9_a185_685b35a75b97row0_col10\" class=\"data row0 col10\" >0.00</td>\n",
       "                        <td id=\"T_5c8a12d6_5329_11e9_a185_685b35a75b97row0_col11\" class=\"data row0 col11\" >0.00</td>\n",
       "                        <td id=\"T_5c8a12d6_5329_11e9_a185_685b35a75b97row0_col12\" class=\"data row0 col12\" >1.00</td>\n",
       "                        <td id=\"T_5c8a12d6_5329_11e9_a185_685b35a75b97row0_col13\" class=\"data row0 col13\" >1.00</td>\n",
       "                        <td id=\"T_5c8a12d6_5329_11e9_a185_685b35a75b97row0_col14\" class=\"data row0 col14\" >1.00</td>\n",
       "                        <td id=\"T_5c8a12d6_5329_11e9_a185_685b35a75b97row0_col15\" class=\"data row0 col15\" >1.00</td>\n",
       "                        <td id=\"T_5c8a12d6_5329_11e9_a185_685b35a75b97row0_col16\" class=\"data row0 col16\" >0.00</td>\n",
       "                        <td id=\"T_5c8a12d6_5329_11e9_a185_685b35a75b97row0_col17\" class=\"data row0 col17\" >0.00</td>\n",
       "                        <td id=\"T_5c8a12d6_5329_11e9_a185_685b35a75b97row0_col18\" class=\"data row0 col18\" >0.00</td>\n",
       "                        <td id=\"T_5c8a12d6_5329_11e9_a185_685b35a75b97row0_col19\" class=\"data row0 col19\" >0.00</td>\n",
       "                        <td id=\"T_5c8a12d6_5329_11e9_a185_685b35a75b97row0_col20\" class=\"data row0 col20\" >1.00</td>\n",
       "                        <td id=\"T_5c8a12d6_5329_11e9_a185_685b35a75b97row0_col21\" class=\"data row0 col21\" >0.00</td>\n",
       "                        <td id=\"T_5c8a12d6_5329_11e9_a185_685b35a75b97row0_col22\" class=\"data row0 col22\" >0.00</td>\n",
       "                        <td id=\"T_5c8a12d6_5329_11e9_a185_685b35a75b97row0_col23\" class=\"data row0 col23\" >0.00</td>\n",
       "                        <td id=\"T_5c8a12d6_5329_11e9_a185_685b35a75b97row0_col24\" class=\"data row0 col24\" >1.00</td>\n",
       "                        <td id=\"T_5c8a12d6_5329_11e9_a185_685b35a75b97row0_col25\" class=\"data row0 col25\" >0.00</td>\n",
       "                        <td id=\"T_5c8a12d6_5329_11e9_a185_685b35a75b97row0_col26\" class=\"data row0 col26\" >1.00</td>\n",
       "                        <td id=\"T_5c8a12d6_5329_11e9_a185_685b35a75b97row0_col27\" class=\"data row0 col27\" >0.00</td>\n",
       "                        <td id=\"T_5c8a12d6_5329_11e9_a185_685b35a75b97row0_col28\" class=\"data row0 col28\" >0.00</td>\n",
       "                        <td id=\"T_5c8a12d6_5329_11e9_a185_685b35a75b97row0_col29\" class=\"data row0 col29\" >1.00</td>\n",
       "                        <td id=\"T_5c8a12d6_5329_11e9_a185_685b35a75b97row0_col30\" class=\"data row0 col30\" >0.00</td>\n",
       "                        <td id=\"T_5c8a12d6_5329_11e9_a185_685b35a75b97row0_col31\" class=\"data row0 col31\" >1.00</td>\n",
       "                        <td id=\"T_5c8a12d6_5329_11e9_a185_685b35a75b97row0_col32\" class=\"data row0 col32\" >0.00</td>\n",
       "                        <td id=\"T_5c8a12d6_5329_11e9_a185_685b35a75b97row0_col33\" class=\"data row0 col33\" >0.00</td>\n",
       "                        <td id=\"T_5c8a12d6_5329_11e9_a185_685b35a75b97row0_col34\" class=\"data row0 col34\" >0.00</td>\n",
       "                        <td id=\"T_5c8a12d6_5329_11e9_a185_685b35a75b97row0_col35\" class=\"data row0 col35\" >1.00</td>\n",
       "                        <td id=\"T_5c8a12d6_5329_11e9_a185_685b35a75b97row0_col36\" class=\"data row0 col36\" >1.00</td>\n",
       "                        <td id=\"T_5c8a12d6_5329_11e9_a185_685b35a75b97row0_col37\" class=\"data row0 col37\" >0.00</td>\n",
       "                        <td id=\"T_5c8a12d6_5329_11e9_a185_685b35a75b97row0_col38\" class=\"data row0 col38\" >0.00</td>\n",
       "                        <td id=\"T_5c8a12d6_5329_11e9_a185_685b35a75b97row0_col39\" class=\"data row0 col39\" >1.00</td>\n",
       "                        <td id=\"T_5c8a12d6_5329_11e9_a185_685b35a75b97row0_col40\" class=\"data row0 col40\" >1.00</td>\n",
       "                        <td id=\"T_5c8a12d6_5329_11e9_a185_685b35a75b97row0_col41\" class=\"data row0 col41\" >0.00</td>\n",
       "                        <td id=\"T_5c8a12d6_5329_11e9_a185_685b35a75b97row0_col42\" class=\"data row0 col42\" >1.00</td>\n",
       "                        <td id=\"T_5c8a12d6_5329_11e9_a185_685b35a75b97row0_col43\" class=\"data row0 col43\" >0.00</td>\n",
       "                        <td id=\"T_5c8a12d6_5329_11e9_a185_685b35a75b97row0_col44\" class=\"data row0 col44\" >0.00</td>\n",
       "                        <td id=\"T_5c8a12d6_5329_11e9_a185_685b35a75b97row0_col45\" class=\"data row0 col45\" >1.00</td>\n",
       "                        <td id=\"T_5c8a12d6_5329_11e9_a185_685b35a75b97row0_col46\" class=\"data row0 col46\" >0.00</td>\n",
       "                        <td id=\"T_5c8a12d6_5329_11e9_a185_685b35a75b97row0_col47\" class=\"data row0 col47\" >1.00</td>\n",
       "                        <td id=\"T_5c8a12d6_5329_11e9_a185_685b35a75b97row0_col48\" class=\"data row0 col48\" >1.00</td>\n",
       "                        <td id=\"T_5c8a12d6_5329_11e9_a185_685b35a75b97row0_col49\" class=\"data row0 col49\" >1.00</td>\n",
       "                        <td id=\"T_5c8a12d6_5329_11e9_a185_685b35a75b97row0_col50\" class=\"data row0 col50\" >0.00</td>\n",
       "                        <td id=\"T_5c8a12d6_5329_11e9_a185_685b35a75b97row0_col51\" class=\"data row0 col51\" >1.00</td>\n",
       "                        <td id=\"T_5c8a12d6_5329_11e9_a185_685b35a75b97row0_col52\" class=\"data row0 col52\" >1.00</td>\n",
       "                        <td id=\"T_5c8a12d6_5329_11e9_a185_685b35a75b97row0_col53\" class=\"data row0 col53\" >1.00</td>\n",
       "                        <td id=\"T_5c8a12d6_5329_11e9_a185_685b35a75b97row0_col54\" class=\"data row0 col54\" >1.00</td>\n",
       "                        <td id=\"T_5c8a12d6_5329_11e9_a185_685b35a75b97row0_col55\" class=\"data row0 col55\" >1.00</td>\n",
       "                        <td id=\"T_5c8a12d6_5329_11e9_a185_685b35a75b97row0_col56\" class=\"data row0 col56\" >0.00</td>\n",
       "                        <td id=\"T_5c8a12d6_5329_11e9_a185_685b35a75b97row0_col57\" class=\"data row0 col57\" >1.00</td>\n",
       "                        <td id=\"T_5c8a12d6_5329_11e9_a185_685b35a75b97row0_col58\" class=\"data row0 col58\" >0.00</td>\n",
       "                        <td id=\"T_5c8a12d6_5329_11e9_a185_685b35a75b97row0_col59\" class=\"data row0 col59\" >0.00</td>\n",
       "                        <td id=\"T_5c8a12d6_5329_11e9_a185_685b35a75b97row0_col60\" class=\"data row0 col60\" >1.00</td>\n",
       "                        <td id=\"T_5c8a12d6_5329_11e9_a185_685b35a75b97row0_col61\" class=\"data row0 col61\" >1.00</td>\n",
       "                        <td id=\"T_5c8a12d6_5329_11e9_a185_685b35a75b97row0_col62\" class=\"data row0 col62\" >1.00</td>\n",
       "                        <td id=\"T_5c8a12d6_5329_11e9_a185_685b35a75b97row0_col63\" class=\"data row0 col63\" >1.00</td>\n",
       "                        <td id=\"T_5c8a12d6_5329_11e9_a185_685b35a75b97row0_col64\" class=\"data row0 col64\" >1.00</td>\n",
       "                        <td id=\"T_5c8a12d6_5329_11e9_a185_685b35a75b97row0_col65\" class=\"data row0 col65\" >0.00</td>\n",
       "                        <td id=\"T_5c8a12d6_5329_11e9_a185_685b35a75b97row0_col66\" class=\"data row0 col66\" >1.00</td>\n",
       "                        <td id=\"T_5c8a12d6_5329_11e9_a185_685b35a75b97row0_col67\" class=\"data row0 col67\" >0.00</td>\n",
       "                        <td id=\"T_5c8a12d6_5329_11e9_a185_685b35a75b97row0_col68\" class=\"data row0 col68\" >1.00</td>\n",
       "                        <td id=\"T_5c8a12d6_5329_11e9_a185_685b35a75b97row0_col69\" class=\"data row0 col69\" >1.00</td>\n",
       "                        <td id=\"T_5c8a12d6_5329_11e9_a185_685b35a75b97row0_col70\" class=\"data row0 col70\" >1.00</td>\n",
       "                        <td id=\"T_5c8a12d6_5329_11e9_a185_685b35a75b97row0_col71\" class=\"data row0 col71\" >1.00</td>\n",
       "                        <td id=\"T_5c8a12d6_5329_11e9_a185_685b35a75b97row0_col72\" class=\"data row0 col72\" >1.00</td>\n",
       "                        <td id=\"T_5c8a12d6_5329_11e9_a185_685b35a75b97row0_col73\" class=\"data row0 col73\" >0.00</td>\n",
       "                        <td id=\"T_5c8a12d6_5329_11e9_a185_685b35a75b97row0_col74\" class=\"data row0 col74\" >1.00</td>\n",
       "            </tr>\n",
       "            <tr>\n",
       "                        <th id=\"T_5c8a12d6_5329_11e9_a185_685b35a75b97level0_row1\" class=\"row_heading level0 row1\" >pred</th>\n",
       "                        <td id=\"T_5c8a12d6_5329_11e9_a185_685b35a75b97row1_col0\" class=\"data row1 col0\" >0.03</td>\n",
       "                        <td id=\"T_5c8a12d6_5329_11e9_a185_685b35a75b97row1_col1\" class=\"data row1 col1\" >0.33</td>\n",
       "                        <td id=\"T_5c8a12d6_5329_11e9_a185_685b35a75b97row1_col2\" class=\"data row1 col2\" >0.39</td>\n",
       "                        <td id=\"T_5c8a12d6_5329_11e9_a185_685b35a75b97row1_col3\" class=\"data row1 col3\" >0.31</td>\n",
       "                        <td id=\"T_5c8a12d6_5329_11e9_a185_685b35a75b97row1_col4\" class=\"data row1 col4\" >0.61</td>\n",
       "                        <td id=\"T_5c8a12d6_5329_11e9_a185_685b35a75b97row1_col5\" class=\"data row1 col5\" >0.39</td>\n",
       "                        <td id=\"T_5c8a12d6_5329_11e9_a185_685b35a75b97row1_col6\" class=\"data row1 col6\" >0.56</td>\n",
       "                        <td id=\"T_5c8a12d6_5329_11e9_a185_685b35a75b97row1_col7\" class=\"data row1 col7\" >0.37</td>\n",
       "                        <td id=\"T_5c8a12d6_5329_11e9_a185_685b35a75b97row1_col8\" class=\"data row1 col8\" >0.83</td>\n",
       "                        <td id=\"T_5c8a12d6_5329_11e9_a185_685b35a75b97row1_col9\" class=\"data row1 col9\" >0.13</td>\n",
       "                        <td id=\"T_5c8a12d6_5329_11e9_a185_685b35a75b97row1_col10\" class=\"data row1 col10\" >0.02</td>\n",
       "                        <td id=\"T_5c8a12d6_5329_11e9_a185_685b35a75b97row1_col11\" class=\"data row1 col11\" >0.04</td>\n",
       "                        <td id=\"T_5c8a12d6_5329_11e9_a185_685b35a75b97row1_col12\" class=\"data row1 col12\" >0.75</td>\n",
       "                        <td id=\"T_5c8a12d6_5329_11e9_a185_685b35a75b97row1_col13\" class=\"data row1 col13\" >0.48</td>\n",
       "                        <td id=\"T_5c8a12d6_5329_11e9_a185_685b35a75b97row1_col14\" class=\"data row1 col14\" >0.58</td>\n",
       "                        <td id=\"T_5c8a12d6_5329_11e9_a185_685b35a75b97row1_col15\" class=\"data row1 col15\" >0.43</td>\n",
       "                        <td id=\"T_5c8a12d6_5329_11e9_a185_685b35a75b97row1_col16\" class=\"data row1 col16\" >0.48</td>\n",
       "                        <td id=\"T_5c8a12d6_5329_11e9_a185_685b35a75b97row1_col17\" class=\"data row1 col17\" >0.04</td>\n",
       "                        <td id=\"T_5c8a12d6_5329_11e9_a185_685b35a75b97row1_col18\" class=\"data row1 col18\" >0.51</td>\n",
       "                        <td id=\"T_5c8a12d6_5329_11e9_a185_685b35a75b97row1_col19\" class=\"data row1 col19\" >0.09</td>\n",
       "                        <td id=\"T_5c8a12d6_5329_11e9_a185_685b35a75b97row1_col20\" class=\"data row1 col20\" >0.69</td>\n",
       "                        <td id=\"T_5c8a12d6_5329_11e9_a185_685b35a75b97row1_col21\" class=\"data row1 col21\" >0.51</td>\n",
       "                        <td id=\"T_5c8a12d6_5329_11e9_a185_685b35a75b97row1_col22\" class=\"data row1 col22\" >0.06</td>\n",
       "                        <td id=\"T_5c8a12d6_5329_11e9_a185_685b35a75b97row1_col23\" class=\"data row1 col23\" >0.03</td>\n",
       "                        <td id=\"T_5c8a12d6_5329_11e9_a185_685b35a75b97row1_col24\" class=\"data row1 col24\" >0.76</td>\n",
       "                        <td id=\"T_5c8a12d6_5329_11e9_a185_685b35a75b97row1_col25\" class=\"data row1 col25\" >0.28</td>\n",
       "                        <td id=\"T_5c8a12d6_5329_11e9_a185_685b35a75b97row1_col26\" class=\"data row1 col26\" >0.62</td>\n",
       "                        <td id=\"T_5c8a12d6_5329_11e9_a185_685b35a75b97row1_col27\" class=\"data row1 col27\" >0.31</td>\n",
       "                        <td id=\"T_5c8a12d6_5329_11e9_a185_685b35a75b97row1_col28\" class=\"data row1 col28\" >0.56</td>\n",
       "                        <td id=\"T_5c8a12d6_5329_11e9_a185_685b35a75b97row1_col29\" class=\"data row1 col29\" >0.65</td>\n",
       "                        <td id=\"T_5c8a12d6_5329_11e9_a185_685b35a75b97row1_col30\" class=\"data row1 col30\" >0.06</td>\n",
       "                        <td id=\"T_5c8a12d6_5329_11e9_a185_685b35a75b97row1_col31\" class=\"data row1 col31\" >0.42</td>\n",
       "                        <td id=\"T_5c8a12d6_5329_11e9_a185_685b35a75b97row1_col32\" class=\"data row1 col32\" >0.21</td>\n",
       "                        <td id=\"T_5c8a12d6_5329_11e9_a185_685b35a75b97row1_col33\" class=\"data row1 col33\" >0.21</td>\n",
       "                        <td id=\"T_5c8a12d6_5329_11e9_a185_685b35a75b97row1_col34\" class=\"data row1 col34\" >0.18</td>\n",
       "                        <td id=\"T_5c8a12d6_5329_11e9_a185_685b35a75b97row1_col35\" class=\"data row1 col35\" >0.70</td>\n",
       "                        <td id=\"T_5c8a12d6_5329_11e9_a185_685b35a75b97row1_col36\" class=\"data row1 col36\" >0.83</td>\n",
       "                        <td id=\"T_5c8a12d6_5329_11e9_a185_685b35a75b97row1_col37\" class=\"data row1 col37\" >0.24</td>\n",
       "                        <td id=\"T_5c8a12d6_5329_11e9_a185_685b35a75b97row1_col38\" class=\"data row1 col38\" >0.48</td>\n",
       "                        <td id=\"T_5c8a12d6_5329_11e9_a185_685b35a75b97row1_col39\" class=\"data row1 col39\" >0.95</td>\n",
       "                        <td id=\"T_5c8a12d6_5329_11e9_a185_685b35a75b97row1_col40\" class=\"data row1 col40\" >0.15</td>\n",
       "                        <td id=\"T_5c8a12d6_5329_11e9_a185_685b35a75b97row1_col41\" class=\"data row1 col41\" >0.43</td>\n",
       "                        <td id=\"T_5c8a12d6_5329_11e9_a185_685b35a75b97row1_col42\" class=\"data row1 col42\" >0.73</td>\n",
       "                        <td id=\"T_5c8a12d6_5329_11e9_a185_685b35a75b97row1_col43\" class=\"data row1 col43\" >0.23</td>\n",
       "                        <td id=\"T_5c8a12d6_5329_11e9_a185_685b35a75b97row1_col44\" class=\"data row1 col44\" >0.27</td>\n",
       "                        <td id=\"T_5c8a12d6_5329_11e9_a185_685b35a75b97row1_col45\" class=\"data row1 col45\" >0.71</td>\n",
       "                        <td id=\"T_5c8a12d6_5329_11e9_a185_685b35a75b97row1_col46\" class=\"data row1 col46\" >0.06</td>\n",
       "                        <td id=\"T_5c8a12d6_5329_11e9_a185_685b35a75b97row1_col47\" class=\"data row1 col47\" >0.82</td>\n",
       "                        <td id=\"T_5c8a12d6_5329_11e9_a185_685b35a75b97row1_col48\" class=\"data row1 col48\" >0.96</td>\n",
       "                        <td id=\"T_5c8a12d6_5329_11e9_a185_685b35a75b97row1_col49\" class=\"data row1 col49\" >0.29</td>\n",
       "                        <td id=\"T_5c8a12d6_5329_11e9_a185_685b35a75b97row1_col50\" class=\"data row1 col50\" >0.67</td>\n",
       "                        <td id=\"T_5c8a12d6_5329_11e9_a185_685b35a75b97row1_col51\" class=\"data row1 col51\" >0.56</td>\n",
       "                        <td id=\"T_5c8a12d6_5329_11e9_a185_685b35a75b97row1_col52\" class=\"data row1 col52\" >0.68</td>\n",
       "                        <td id=\"T_5c8a12d6_5329_11e9_a185_685b35a75b97row1_col53\" class=\"data row1 col53\" >0.52</td>\n",
       "                        <td id=\"T_5c8a12d6_5329_11e9_a185_685b35a75b97row1_col54\" class=\"data row1 col54\" >0.94</td>\n",
       "                        <td id=\"T_5c8a12d6_5329_11e9_a185_685b35a75b97row1_col55\" class=\"data row1 col55\" >0.19</td>\n",
       "                        <td id=\"T_5c8a12d6_5329_11e9_a185_685b35a75b97row1_col56\" class=\"data row1 col56\" >0.07</td>\n",
       "                        <td id=\"T_5c8a12d6_5329_11e9_a185_685b35a75b97row1_col57\" class=\"data row1 col57\" >0.87</td>\n",
       "                        <td id=\"T_5c8a12d6_5329_11e9_a185_685b35a75b97row1_col58\" class=\"data row1 col58\" >0.05</td>\n",
       "                        <td id=\"T_5c8a12d6_5329_11e9_a185_685b35a75b97row1_col59\" class=\"data row1 col59\" >0.78</td>\n",
       "                        <td id=\"T_5c8a12d6_5329_11e9_a185_685b35a75b97row1_col60\" class=\"data row1 col60\" >0.74</td>\n",
       "                        <td id=\"T_5c8a12d6_5329_11e9_a185_685b35a75b97row1_col61\" class=\"data row1 col61\" >0.55</td>\n",
       "                        <td id=\"T_5c8a12d6_5329_11e9_a185_685b35a75b97row1_col62\" class=\"data row1 col62\" >0.79</td>\n",
       "                        <td id=\"T_5c8a12d6_5329_11e9_a185_685b35a75b97row1_col63\" class=\"data row1 col63\" >0.32</td>\n",
       "                        <td id=\"T_5c8a12d6_5329_11e9_a185_685b35a75b97row1_col64\" class=\"data row1 col64\" >0.84</td>\n",
       "                        <td id=\"T_5c8a12d6_5329_11e9_a185_685b35a75b97row1_col65\" class=\"data row1 col65\" >0.03</td>\n",
       "                        <td id=\"T_5c8a12d6_5329_11e9_a185_685b35a75b97row1_col66\" class=\"data row1 col66\" >0.65</td>\n",
       "                        <td id=\"T_5c8a12d6_5329_11e9_a185_685b35a75b97row1_col67\" class=\"data row1 col67\" >0.41</td>\n",
       "                        <td id=\"T_5c8a12d6_5329_11e9_a185_685b35a75b97row1_col68\" class=\"data row1 col68\" >0.92</td>\n",
       "                        <td id=\"T_5c8a12d6_5329_11e9_a185_685b35a75b97row1_col69\" class=\"data row1 col69\" >0.63</td>\n",
       "                        <td id=\"T_5c8a12d6_5329_11e9_a185_685b35a75b97row1_col70\" class=\"data row1 col70\" >0.53</td>\n",
       "                        <td id=\"T_5c8a12d6_5329_11e9_a185_685b35a75b97row1_col71\" class=\"data row1 col71\" >0.47</td>\n",
       "                        <td id=\"T_5c8a12d6_5329_11e9_a185_685b35a75b97row1_col72\" class=\"data row1 col72\" >0.68</td>\n",
       "                        <td id=\"T_5c8a12d6_5329_11e9_a185_685b35a75b97row1_col73\" class=\"data row1 col73\" >0.45</td>\n",
       "                        <td id=\"T_5c8a12d6_5329_11e9_a185_685b35a75b97row1_col74\" class=\"data row1 col74\" >0.46</td>\n",
       "            </tr>\n",
       "    </tbody></table>"
      ],
      "text/plain": [
       "<pandas.io.formats.style.Styler at 0x128752978>"
      ]
     },
     "execution_count": 30,
     "metadata": {},
     "output_type": "execute_result"
    }
   ],
   "source": [
    "(pd.DataFrame({'y_true': y_true, 'pred': pred})\n",
    "   .transpose()\n",
    "   .style.format('{:.2f}'))"
   ]
  },
  {
   "cell_type": "markdown",
   "metadata": {},
   "source": [
    "# Custom prediction"
   ]
  },
  {
   "cell_type": "markdown",
   "metadata": {},
   "source": [
    "Based on oour trained model, let's see how it can handle custom user input."
   ]
  },
  {
   "cell_type": "code",
   "execution_count": 31,
   "metadata": {},
   "outputs": [],
   "source": [
    "def predict(sent):\n",
    "    \"\"\"Possible improvement - a list of sentences as the argument.\"\"\"\n",
    "    tokens = tokenize_en(sent.lower())\n",
    "    x = torch.LongTensor([TEXT.vocab.stoi[t] for t in tokens])\n",
    "    prediction = model(x.view(-1, 1)).item()\n",
    "    \n",
    "    return prediction"
   ]
  },
  {
   "cell_type": "code",
   "execution_count": 32,
   "metadata": {},
   "outputs": [],
   "source": [
    "sents = [\n",
    "    \"This model's performance seems to be pretty decent!\",\n",
    "    'Oh, bloody hell!',\n",
    "    \"Nah, I'm not impressed\",\n",
    "    \"I'm in heaven\",\n",
    "    \"Good job\",\n",
    "    \"Bad job\",\n",
    "    'The result is fairly ok'\n",
    "]"
   ]
  },
  {
   "cell_type": "code",
   "execution_count": 33,
   "metadata": {},
   "outputs": [
    {
     "data": {
      "text/html": [
       "<div>\n",
       "<style scoped>\n",
       "    .dataframe tbody tr th:only-of-type {\n",
       "        vertical-align: middle;\n",
       "    }\n",
       "\n",
       "    .dataframe tbody tr th {\n",
       "        vertical-align: top;\n",
       "    }\n",
       "\n",
       "    .dataframe thead th {\n",
       "        text-align: right;\n",
       "    }\n",
       "</style>\n",
       "<table border=\"1\" class=\"dataframe\">\n",
       "  <thead>\n",
       "    <tr style=\"text-align: right;\">\n",
       "      <th></th>\n",
       "      <th>pred</th>\n",
       "      <th>sentence</th>\n",
       "    </tr>\n",
       "  </thead>\n",
       "  <tbody>\n",
       "    <tr>\n",
       "      <th>0</th>\n",
       "      <td>0.662333</td>\n",
       "      <td>This model's performance seems to be pretty de...</td>\n",
       "    </tr>\n",
       "    <tr>\n",
       "      <th>1</th>\n",
       "      <td>0.293115</td>\n",
       "      <td>Oh, bloody hell!</td>\n",
       "    </tr>\n",
       "    <tr>\n",
       "      <th>2</th>\n",
       "      <td>0.281149</td>\n",
       "      <td>Nah, I'm not impressed</td>\n",
       "    </tr>\n",
       "    <tr>\n",
       "      <th>3</th>\n",
       "      <td>0.397662</td>\n",
       "      <td>I'm in heaven</td>\n",
       "    </tr>\n",
       "    <tr>\n",
       "      <th>4</th>\n",
       "      <td>0.668841</td>\n",
       "      <td>Good job</td>\n",
       "    </tr>\n",
       "    <tr>\n",
       "      <th>5</th>\n",
       "      <td>0.026094</td>\n",
       "      <td>Bad job</td>\n",
       "    </tr>\n",
       "    <tr>\n",
       "      <th>6</th>\n",
       "      <td>0.395844</td>\n",
       "      <td>The result is fairly ok</td>\n",
       "    </tr>\n",
       "  </tbody>\n",
       "</table>\n",
       "</div>"
      ],
      "text/plain": [
       "       pred                                           sentence\n",
       "0  0.662333  This model's performance seems to be pretty de...\n",
       "1  0.293115                                   Oh, bloody hell!\n",
       "2  0.281149                             Nah, I'm not impressed\n",
       "3  0.397662                                      I'm in heaven\n",
       "4  0.668841                                           Good job\n",
       "5  0.026094                                            Bad job\n",
       "6  0.395844                            The result is fairly ok"
      ]
     },
     "execution_count": 33,
     "metadata": {},
     "output_type": "execute_result"
    }
   ],
   "source": [
    "pd.DataFrame({'pred': list(map(predict, sents)), 'sentence': sents})"
   ]
  },
  {
   "cell_type": "markdown",
   "metadata": {},
   "source": [
    "Todo: how to use PyTorch/TorchText to plug in all inputs at once to the model?"
   ]
  },
  {
   "cell_type": "code",
   "execution_count": null,
   "metadata": {},
   "outputs": [],
   "source": []
  }
 ],
 "metadata": {
  "kernelspec": {
   "display_name": "torch-3.7.2",
   "language": "python",
   "name": "torch-3.7.2"
  },
  "language_info": {
   "codemirror_mode": {
    "name": "ipython",
    "version": 3
   },
   "file_extension": ".py",
   "mimetype": "text/x-python",
   "name": "python",
   "nbconvert_exporter": "python",
   "pygments_lexer": "ipython3",
   "version": "3.7.2"
  },
  "varInspector": {
   "cols": {
    "lenName": 16,
    "lenType": 16,
    "lenVar": 40
   },
   "kernels_config": {
    "python": {
     "delete_cmd_postfix": "",
     "delete_cmd_prefix": "del ",
     "library": "var_list.py",
     "varRefreshCmd": "print(var_dic_list())"
    },
    "r": {
     "delete_cmd_postfix": ") ",
     "delete_cmd_prefix": "rm(",
     "library": "var_list.r",
     "varRefreshCmd": "cat(var_dic_list()) "
    }
   },
   "types_to_exclude": [
    "module",
    "function",
    "builtin_function_or_method",
    "instance",
    "_Feature"
   ],
   "window_display": false
  }
 },
 "nbformat": 4,
 "nbformat_minor": 2
}
